{
 "cells": [
  {
   "cell_type": "code",
   "execution_count": 22,
   "metadata": {},
   "outputs": [],
   "source": [
    "# Tratamiento de datos\n",
    "# ==============================================================================\n",
    "import numpy as np\n",
    "import pandas as pd\n",
    "\n",
    "import re\n",
    "\n",
    "import sidetable\n",
    "import math"
   ]
  },
  {
   "cell_type": "markdown",
   "metadata": {},
   "source": [
    "# Content\n",
    "### Data:-\n",
    "\n",
    "**Poster_Link** - Link of the poster that imdb using\n",
    "\n",
    "**Series_Title** = Name of the movie\n",
    "\n",
    "**Released_Year** - Year at which that movie released\n",
    "\n",
    "**Certificate** - Certificate earned by that movie\n",
    "\n",
    "**Runtime** - Total runtime of the movie\n",
    "\n",
    "**Genre** - Genre of the movie\n",
    "\n",
    "**IMDB_Rating** - Rating of the movie at IMDB site\n",
    "\n",
    "**Overview** - mini story/ summary\n",
    "\n",
    "**Meta_score** - Score earned by the movie\n",
    "\n",
    "**Director** - Name of the Director\n",
    "\n",
    "**Star1,Star2,Star3,Star4** - Name of the Stars\n",
    "\n",
    "**Noofvotes** - Total number of votes\n",
    "\n",
    "**Gross** - Money earned by that movie"
   ]
  },
  {
   "cell_type": "markdown",
   "metadata": {},
   "source": [
    "\n",
    "# Inspiration\n",
    "\n",
    "Analysis of the gross of a movie vs directors.\n",
    "\n",
    "Analysis of the gross of a movie vs different - different stars.\n",
    "\n",
    "Analysis of the Noofvotes of a movie vs directors.\n",
    "\n",
    "Analysis of the Noofvotes of a movie vs different - different stars.\n",
    "\n",
    "Which actor prefer which Genre more?\n",
    "\n",
    "Which combination of actors are getting good IMDB_Rating maximum time?\n",
    "\n",
    "Which combination of actors are getting good gross?"
   ]
  },
  {
   "cell_type": "code",
   "execution_count": 23,
   "metadata": {},
   "outputs": [
    {
     "data": {
      "text/html": [
       "<div>\n",
       "<style scoped>\n",
       "    .dataframe tbody tr th:only-of-type {\n",
       "        vertical-align: middle;\n",
       "    }\n",
       "\n",
       "    .dataframe tbody tr th {\n",
       "        vertical-align: top;\n",
       "    }\n",
       "\n",
       "    .dataframe thead th {\n",
       "        text-align: right;\n",
       "    }\n",
       "</style>\n",
       "<table border=\"1\" class=\"dataframe\">\n",
       "  <thead>\n",
       "    <tr style=\"text-align: right;\">\n",
       "      <th></th>\n",
       "      <th>Poster_Link</th>\n",
       "      <th>Series_Title</th>\n",
       "      <th>Released_Year</th>\n",
       "      <th>Certificate</th>\n",
       "      <th>Runtime</th>\n",
       "      <th>Genre</th>\n",
       "      <th>IMDB_Rating</th>\n",
       "      <th>Overview</th>\n",
       "      <th>Meta_score</th>\n",
       "      <th>Director</th>\n",
       "      <th>Star1</th>\n",
       "      <th>Star2</th>\n",
       "      <th>Star3</th>\n",
       "      <th>Star4</th>\n",
       "      <th>No_of_Votes</th>\n",
       "      <th>Gross</th>\n",
       "    </tr>\n",
       "  </thead>\n",
       "  <tbody>\n",
       "    <tr>\n",
       "      <th>0</th>\n",
       "      <td>https://m.media-amazon.com/images/M/MV5BMDFkYT...</td>\n",
       "      <td>The Shawshank Redemption</td>\n",
       "      <td>1994</td>\n",
       "      <td>A</td>\n",
       "      <td>142 min</td>\n",
       "      <td>Drama</td>\n",
       "      <td>9.3</td>\n",
       "      <td>Two imprisoned men bond over a number of years...</td>\n",
       "      <td>80.0</td>\n",
       "      <td>Frank Darabont</td>\n",
       "      <td>Tim Robbins</td>\n",
       "      <td>Morgan Freeman</td>\n",
       "      <td>Bob Gunton</td>\n",
       "      <td>William Sadler</td>\n",
       "      <td>2343110</td>\n",
       "      <td>28,341,469</td>\n",
       "    </tr>\n",
       "    <tr>\n",
       "      <th>1</th>\n",
       "      <td>https://m.media-amazon.com/images/M/MV5BM2MyNj...</td>\n",
       "      <td>The Godfather</td>\n",
       "      <td>1972</td>\n",
       "      <td>A</td>\n",
       "      <td>175 min</td>\n",
       "      <td>Crime, Drama</td>\n",
       "      <td>9.2</td>\n",
       "      <td>An organized crime dynasty's aging patriarch t...</td>\n",
       "      <td>100.0</td>\n",
       "      <td>Francis Ford Coppola</td>\n",
       "      <td>Marlon Brando</td>\n",
       "      <td>Al Pacino</td>\n",
       "      <td>James Caan</td>\n",
       "      <td>Diane Keaton</td>\n",
       "      <td>1620367</td>\n",
       "      <td>134,966,411</td>\n",
       "    </tr>\n",
       "    <tr>\n",
       "      <th>2</th>\n",
       "      <td>https://m.media-amazon.com/images/M/MV5BMTMxNT...</td>\n",
       "      <td>The Dark Knight</td>\n",
       "      <td>2008</td>\n",
       "      <td>UA</td>\n",
       "      <td>152 min</td>\n",
       "      <td>Action, Crime, Drama</td>\n",
       "      <td>9.0</td>\n",
       "      <td>When the menace known as the Joker wreaks havo...</td>\n",
       "      <td>84.0</td>\n",
       "      <td>Christopher Nolan</td>\n",
       "      <td>Christian Bale</td>\n",
       "      <td>Heath Ledger</td>\n",
       "      <td>Aaron Eckhart</td>\n",
       "      <td>Michael Caine</td>\n",
       "      <td>2303232</td>\n",
       "      <td>534,858,444</td>\n",
       "    </tr>\n",
       "  </tbody>\n",
       "</table>\n",
       "</div>"
      ],
      "text/plain": [
       "                                         Poster_Link  \\\n",
       "0  https://m.media-amazon.com/images/M/MV5BMDFkYT...   \n",
       "1  https://m.media-amazon.com/images/M/MV5BM2MyNj...   \n",
       "2  https://m.media-amazon.com/images/M/MV5BMTMxNT...   \n",
       "\n",
       "               Series_Title Released_Year Certificate  Runtime  \\\n",
       "0  The Shawshank Redemption          1994           A  142 min   \n",
       "1             The Godfather          1972           A  175 min   \n",
       "2           The Dark Knight          2008          UA  152 min   \n",
       "\n",
       "                  Genre  IMDB_Rating  \\\n",
       "0                 Drama          9.3   \n",
       "1          Crime, Drama          9.2   \n",
       "2  Action, Crime, Drama          9.0   \n",
       "\n",
       "                                            Overview  Meta_score  \\\n",
       "0  Two imprisoned men bond over a number of years...        80.0   \n",
       "1  An organized crime dynasty's aging patriarch t...       100.0   \n",
       "2  When the menace known as the Joker wreaks havo...        84.0   \n",
       "\n",
       "               Director           Star1           Star2          Star3  \\\n",
       "0        Frank Darabont     Tim Robbins  Morgan Freeman     Bob Gunton   \n",
       "1  Francis Ford Coppola   Marlon Brando       Al Pacino     James Caan   \n",
       "2     Christopher Nolan  Christian Bale    Heath Ledger  Aaron Eckhart   \n",
       "\n",
       "            Star4  No_of_Votes        Gross  \n",
       "0  William Sadler      2343110   28,341,469  \n",
       "1    Diane Keaton      1620367  134,966,411  \n",
       "2   Michael Caine      2303232  534,858,444  "
      ]
     },
     "execution_count": 23,
     "metadata": {},
     "output_type": "execute_result"
    }
   ],
   "source": [
    "df_imbd = pd.read_csv(\"./imdb_top_1000.csv\")\n",
    "df_imbd.head(3)"
   ]
  },
  {
   "cell_type": "code",
   "execution_count": 24,
   "metadata": {},
   "outputs": [
    {
     "name": "stdout",
     "output_type": "stream",
     "text": [
      "<class 'pandas.core.frame.DataFrame'>\n",
      "RangeIndex: 1000 entries, 0 to 999\n",
      "Data columns (total 16 columns):\n",
      " #   Column         Non-Null Count  Dtype  \n",
      "---  ------         --------------  -----  \n",
      " 0   Poster_Link    1000 non-null   object \n",
      " 1   Series_Title   1000 non-null   object \n",
      " 2   Released_Year  1000 non-null   object \n",
      " 3   Certificate    899 non-null    object \n",
      " 4   Runtime        1000 non-null   object \n",
      " 5   Genre          1000 non-null   object \n",
      " 6   IMDB_Rating    1000 non-null   float64\n",
      " 7   Overview       1000 non-null   object \n",
      " 8   Meta_score     843 non-null    float64\n",
      " 9   Director       1000 non-null   object \n",
      " 10  Star1          1000 non-null   object \n",
      " 11  Star2          1000 non-null   object \n",
      " 12  Star3          1000 non-null   object \n",
      " 13  Star4          1000 non-null   object \n",
      " 14  No_of_Votes    1000 non-null   int64  \n",
      " 15  Gross          831 non-null    object \n",
      "dtypes: float64(2), int64(1), object(13)\n",
      "memory usage: 125.1+ KB\n"
     ]
    }
   ],
   "source": [
    "df_imbd.info()"
   ]
  },
  {
   "cell_type": "code",
   "execution_count": 53,
   "metadata": {},
   "outputs": [
    {
     "data": {
      "text/plain": [
       "array(['Frank Darabont', 'Francis Ford Coppola', 'Christopher Nolan',\n",
       "       'Sidney Lumet', 'Peter Jackson', 'Quentin Tarantino',\n",
       "       'Steven Spielberg', 'David Fincher', 'Robert Zemeckis',\n",
       "       'Sergio Leone', 'Lana Wachowski', 'Martin Scorsese',\n",
       "       'Irvin Kershner', 'Milos Forman', 'Bong Joon Ho',\n",
       "       'Fernando Meirelles', 'Hayao Miyazaki', 'Roberto Benigni',\n",
       "       'Jonathan Demme', 'George Lucas', 'Akira Kurosawa',\n",
       "       'Todd Phillips', 'Damien Chazelle', 'Olivier Nakache',\n",
       "       'Roman Polanski', 'Ridley Scott', 'Tony Kaye', 'Bryan Singer',\n",
       "       'Luc Besson', 'Roger Allers', 'James Cameron',\n",
       "       'Giuseppe Tornatore', 'Alfred Hitchcock', 'Michael Curtiz',\n",
       "       'Charles Chaplin', 'Nadine Labaki', 'Makoto Shinkai',\n",
       "       'Bob Persichetti', 'Anthony Russo', 'Lee Unkrich',\n",
       "       'Rajkumar Hirani', 'Andrew Stanton',\n",
       "       'Florian Henckel von Donnersmarck', 'Chan-wook Park',\n",
       "       'Stanley Kubrick', 'Sam Mendes', 'Thomas Vinterberg',\n",
       "       'Asghar Farhadi', 'Denis Villeneuve', 'Michel Gondry',\n",
       "       'Jean-Pierre Jeunet', 'Guy Ritchie', 'Darren Aronofsky',\n",
       "       'Gus Van Sant', 'Majid Majidi', 'John Lasseter', 'Mel Gibson',\n",
       "       'Brian De Palma', 'Richard Marquand', 'Wolfgang Petersen',\n",
       "       'George Roy Hill', 'David Lean', 'Billy Wilder', 'Stanley Donen',\n",
       "       'Orson Welles', 'Peter Farrelly', 'Martin McDonagh',\n",
       "       'Juan José Campanella', \"Gavin O'Connor\", 'Pete Docter',\n",
       "       'Shimit Amin', 'Paul Thomas Anderson', 'Guillermo del Toro',\n",
       "       'James McTeigue', 'Oliver Hirschbiegel', 'Ron Howard',\n",
       "       'Curtis Hanson', 'Michael Mann', 'Clint Eastwood',\n",
       "       'John McTiernan', 'Terry Gilliam', 'John Sturges',\n",
       "       'Joseph L. Mankiewicz', 'John Huston', 'Céline Sciamma',\n",
       "       'Xavier Dolan', 'James Mangold', 'Lenny Abrahamson',\n",
       "       'Damián Szifron', 'Wes Anderson', 'Steve McQueen', 'Tom McCarthy',\n",
       "       'Tomm Moore', 'George Miller', 'David Yates', 'Yôjirô Takita',\n",
       "       'Dean DeBlois', 'Sean Penn', 'Ethan Coen', 'Terry George',\n",
       "       'Je-kyu Kang', 'Richard Linklater', 'Alejandro G. Iñárritu',\n",
       "       'Ashutosh Gowariker', 'M. Night Shyamalan', 'Peter Weir',\n",
       "       'Emir Kusturica', 'Joel Coen', 'Kar-Wai Wong', 'Danny Boyle',\n",
       "       'Krzysztof Kieslowski', 'Jim Sheridan', 'Rob Reiner',\n",
       "       'Oliver Stone', 'Wim Wenders', 'John Carpenter', 'Alan Parker',\n",
       "       'Ingmar Bergman', 'Terry Jones', 'Michael Cimino',\n",
       "       'John G. Avildsen', 'Peter Bogdanovich', 'Stuart Rosenberg',\n",
       "       'Robert Aldrich', 'William Wyler', 'Elia Kazan', 'Carol Reed',\n",
       "       'Frank Capra', 'Victor Fleming', 'Garth Davis', 'Byron Howard',\n",
       "       'Isao Takahata', 'Stephen Chbosky', 'Zoya Akhtar',\n",
       "       'Destin Daniel Cretton', 'Gareth Evans', 'Morten Tyldum',\n",
       "       'James Gunn', 'Spike Jonze', 'Tom Hooper', 'Tate Taylor',\n",
       "       'Tim Miller', 'Karan Johar', 'José Padilha', 'Joss Whedon',\n",
       "       'Vincent Paronnaud', 'Jean-Marc Vallée', 'Gabriele Muccino',\n",
       "       'Edward Zwick', 'Paul Greengrass', 'Ki-duk Kim', 'Frank Miller',\n",
       "       'Julian Schnabel', 'Brad Bird', 'Martin Campbell',\n",
       "       'Alejandro Amenábar', 'Nikkhil Advani', 'Andrew Lau',\n",
       "       'Gore Verbinski', 'Tim Burton', 'Lars von Trier', 'Richard Kelly',\n",
       "       'David Lynch', 'Walter Salles', 'Billy Bob Thornton', 'Mike Leigh',\n",
       "       'Mamoru Oshii', 'Henry Selick', 'Harold Ramis', 'Taylor Hackford',\n",
       "       'Martin Brest', 'Ron Clements', 'Gary Trousdale', 'Kevin Costner',\n",
       "       'Spike Lee', 'Barry Levinson', 'Louis Malle',\n",
       "       'Richard Attenborough', 'Hal Ashby', 'Woody Allen', 'Mel Brooks',\n",
       "       'Franklin J. Schaffner', 'William Friedkin', 'Norman Jewison',\n",
       "       'Bernardo Bertolucci', 'Mike Nichols', 'Robert Wise',\n",
       "       'Robert Rossen', 'Federico Fellini', 'Howard Hawks',\n",
       "       'Richard Brooks', 'John Ford', 'Lewis Milestone', 'Rian Johnson',\n",
       "       'Hirokazu Koreeda', 'Noah Baumbach', 'Luca Guadagnino',\n",
       "       'Ken Loach', 'Taika Waititi', 'Matt Ross', 'John Carney',\n",
       "       'Dan Gilroy', 'J.J. Abrams', 'Michel Hazanavicius', 'Doug Liman',\n",
       "       'Michael Haneke', 'Jacques Audiard', 'Duncan Jones',\n",
       "       'Tomas Alfredson', 'Neill Blomkamp', 'Tarsem Singh', 'Ang Lee',\n",
       "       'Christophe Barratier', 'Jon Favreau', 'Edgar Wright',\n",
       "       'Alfonso Cuarón', 'Yimou Zhang', 'Pedro Almodóvar',\n",
       "       'Danis Tanovic', \"Shin'ichirô Watanabe\", 'Fabián Bielinsky',\n",
       "       'Cameron Crowe', 'Lee Tamahori', 'Tony Scott', 'Bob Clark',\n",
       "       'John Landis', 'Bob Fosse', 'George A. Romero', 'Alan J. Pakula',\n",
       "       'Alejandro Jodorowsky', 'Luis Buñuel', 'Sam Peckinpah',\n",
       "       'Fred Zinnemann', 'Merian C. Cooper', 'Theodore Melfi',\n",
       "       'Paul King', 'Travis Knight', 'Kenneth Lonergan',\n",
       "       'Martin Zandvliet', 'Gareth Edwards', 'Greta Gerwig',\n",
       "       'Dorota Kobiela', 'Ritesh Batra', 'Don Hall', 'Richard Curtis',\n",
       "       'Josh Cooley', 'Adam McKay', 'F. Gary Gray', 'Niels Arden Oplev',\n",
       "       'David O. Russell', 'Pierre Morel', 'Mark Herman', 'Joe Wright',\n",
       "       'Nicolas Winding Refn', 'Jaco Van Dormael', 'Jonathan Dayton',\n",
       "       'Yash Chopra', 'Anders Thomas Jensen', 'Roger Donaldson',\n",
       "       'Satoshi Kon', 'Nick Cassavetes', 'Lukas Moodysson',\n",
       "       'Sylvain Chomet', 'Kevin Reynolds', 'Boaz Yakin', 'Troy Duffy',\n",
       "       'Joe Johnston', 'Andrew Adamson', 'Andrew Niccol',\n",
       "       'Lasse Hallström', 'George P. Cosmatos', 'David Mickey Evans',\n",
       "       'James Ivory', 'Andrew Davis', 'Robert De Niro', 'Jim Jarmusch',\n",
       "       'John Singleton', 'Penny Marshall', 'Sam Raimi', 'John Hughes',\n",
       "       'Richard Donner', 'Roland Joffé', 'Ivan Reitman', 'Philip Kaufman',\n",
       "       'Robert Benton', 'René Laloux', 'Mel Stuart', 'John Schlesinger',\n",
       "       'George Cukor', 'Robert Stevenson', 'Ken Annakin', 'Jack Clayton',\n",
       "       'David Leitch', 'Taylor Sheridan', 'Jordan Peele',\n",
       "       'Christopher McQuarrie', 'Hannes Holm', 'Jemaine Clement',\n",
       "       'James Simone', 'James Marsh', 'Matthew Vaughn', 'Josh Boone',\n",
       "       'Alfonso Gomez-Rejon', 'Abdellatif Kechiche', 'Abhishek Kapoor',\n",
       "       'Alexander Payne', 'Rich Moore', 'Mark Osborne',\n",
       "       'Christopher Miller', 'Ben Affleck', 'Marc Webb', 'Alex Garland',\n",
       "       'Susanne Bier', 'Kevin Macdonald', 'Paul McGuigan',\n",
       "       'Christian Carion', 'Anton Corbijn', 'Nathan Greno',\n",
       "       'Paul Verhoeven', 'Paul Haggis', 'Stephen Chow', 'Brad Anderson',\n",
       "       'Sofia Coppola', 'Mike Newell', 'Peter Mullan', 'Wolfgang Becker',\n",
       "       'Jessie Nelson', 'Stephen Daldry', 'John Cameron Mitchell',\n",
       "       'Steven Soderbergh', 'Yoshiaki Kawajiri', 'Trey Parker',\n",
       "       'Mike Judge', 'Antoine Fuqua', 'James L. Brooks', 'Francis Veber',\n",
       "       'Scott Hicks', 'Gregory Hoblit', 'Michael Radford', 'Kevin Smith',\n",
       "       'Robert Altman', 'Brian Henson', 'James Foley', 'Jon Avnet',\n",
       "       'Bruce Robinson', 'Jean-Jacques Annaud', 'Nicholas Meyer',\n",
       "       'Ted Kotcheff', 'Robert Redford', 'Jim Abrahams', 'Robert Clouse',\n",
       "       'John Boorman', 'Don Siegel', 'Gene Saks', 'Guy Hamilton',\n",
       "       'James Algar', 'Aneesh Chaganty', 'Andrey Zvyagintsev',\n",
       "       'Sean Baker', 'Tyler Nilson', 'Deniz Gamze Ergüven',\n",
       "       'Joseph Kosinski', 'Ryan Coogler', 'David Mackenzie',\n",
       "       'Stephen Frears', 'Matt Reeves', 'David Ayer',\n",
       "       'Hiromasa Yonebayashi', 'Bradley Cooper', 'Pierre Coffin',\n",
       "       'Jonathan Levine', 'Bennett Miller', 'Ruben Fleischer',\n",
       "       'John Lee Hancock', 'David Cronenberg', 'Olivier Dahan',\n",
       "       'Ronny Yu', 'Neil Burger', 'Zack Snyder', 'James Wan',\n",
       "       'Charlie Kaufman', 'Gregg Araki', 'Yann Samuell', 'Marc Forster',\n",
       "       'Eric Bress', 'Chris Columbus', 'Ted Demme', 'Mary Harron',\n",
       "       'Tom Tykwer', 'Terrence Malick', 'Tony Bancroft', 'Alex Proyas',\n",
       "       'Joel Schumacher', 'Jonathan Lynn', 'Marc Caro', 'David Zucker',\n",
       "       'Mark Rydell', 'Walter Hill', 'James Frawley', 'Brian G. Hutton',\n",
       "       'Wolfgang Reitherman', 'Richard Lester'], dtype=object)"
      ]
     },
     "execution_count": 53,
     "metadata": {},
     "output_type": "execute_result"
    }
   ],
   "source": [
    "df_imbd[\"Director\"].unique()\n",
    "#hay 548 directores"
   ]
  },
  {
   "cell_type": "code",
   "execution_count": 54,
   "metadata": {},
   "outputs": [],
   "source": [
    "# Renombramos\n",
    "df_imbd.rename(columns= {\"No_of_Votes\":\"User_Ratings\", \"Star1\":\"Protagonist_1\",\"Star2\":\"Protagonist_2\", \"Star3\":\"Supporting_actor_1\",\"Star4\":\"Supporting_actor_2\"},inplace=True)"
   ]
  },
  {
   "cell_type": "code",
   "execution_count": 55,
   "metadata": {},
   "outputs": [
    {
     "data": {
      "text/html": [
       "<div>\n",
       "<style scoped>\n",
       "    .dataframe tbody tr th:only-of-type {\n",
       "        vertical-align: middle;\n",
       "    }\n",
       "\n",
       "    .dataframe tbody tr th {\n",
       "        vertical-align: top;\n",
       "    }\n",
       "\n",
       "    .dataframe thead th {\n",
       "        text-align: right;\n",
       "    }\n",
       "</style>\n",
       "<table border=\"1\" class=\"dataframe\">\n",
       "  <thead>\n",
       "    <tr style=\"text-align: right;\">\n",
       "      <th></th>\n",
       "      <th>Series_Title</th>\n",
       "      <th>Released_Year</th>\n",
       "      <th>Certificate</th>\n",
       "      <th>Runtime</th>\n",
       "      <th>Genre</th>\n",
       "      <th>IMDB_Rating</th>\n",
       "      <th>Meta_score</th>\n",
       "      <th>Director</th>\n",
       "      <th>Protagonist_1</th>\n",
       "      <th>Protagonist_2</th>\n",
       "      <th>Supporting_actor_1</th>\n",
       "      <th>Supporting_actor_2</th>\n",
       "      <th>User_Ratings</th>\n",
       "      <th>Gross</th>\n",
       "      <th>Overview</th>\n",
       "      <th>Genre_1</th>\n",
       "      <th>Genre_2</th>\n",
       "      <th>Genre_3</th>\n",
       "      <th>Poster_Link</th>\n",
       "    </tr>\n",
       "  </thead>\n",
       "  <tbody>\n",
       "    <tr>\n",
       "      <th>0</th>\n",
       "      <td>The Shawshank Redemption</td>\n",
       "      <td>1994</td>\n",
       "      <td>A</td>\n",
       "      <td>142</td>\n",
       "      <td>Drama</td>\n",
       "      <td>93</td>\n",
       "      <td>80</td>\n",
       "      <td>Frank Darabont</td>\n",
       "      <td>Tim Robbins</td>\n",
       "      <td>Morgan Freeman</td>\n",
       "      <td>Bob Gunton</td>\n",
       "      <td>William Sadler</td>\n",
       "      <td>2343110</td>\n",
       "      <td>28,341,469</td>\n",
       "      <td>Two imprisoned men bond over a number of years...</td>\n",
       "      <td>Drama</td>\n",
       "      <td>None</td>\n",
       "      <td>None</td>\n",
       "      <td>https://m.media-amazon.com/images/M/MV5BMDFkYT...</td>\n",
       "    </tr>\n",
       "  </tbody>\n",
       "</table>\n",
       "</div>"
      ],
      "text/plain": [
       "               Series_Title Released_Year Certificate Runtime  Genre  \\\n",
       "0  The Shawshank Redemption          1994           A     142  Drama   \n",
       "\n",
       "   IMDB_Rating  Meta_score        Director Protagonist_1   Protagonist_2  \\\n",
       "0           93          80  Frank Darabont   Tim Robbins  Morgan Freeman   \n",
       "\n",
       "  Supporting_actor_1 Supporting_actor_2  User_Ratings       Gross  \\\n",
       "0         Bob Gunton     William Sadler       2343110  28,341,469   \n",
       "\n",
       "                                            Overview Genre_1 Genre_2 Genre_3  \\\n",
       "0  Two imprisoned men bond over a number of years...   Drama    None    None   \n",
       "\n",
       "                                         Poster_Link  \n",
       "0  https://m.media-amazon.com/images/M/MV5BMDFkYT...  "
      ]
     },
     "execution_count": 55,
     "metadata": {},
     "output_type": "execute_result"
    }
   ],
   "source": [
    "df_imbd.head(1)"
   ]
  },
  {
   "cell_type": "code",
   "execution_count": 56,
   "metadata": {},
   "outputs": [],
   "source": [
    "df_imbd['IMDB_Rating'] =df_imbd['IMDB_Rating'].apply(lambda x: x*10) #Para multiplicar x 10 cada valor de la columna"
   ]
  },
  {
   "cell_type": "code",
   "execution_count": 57,
   "metadata": {},
   "outputs": [
    {
     "data": {
      "text/html": [
       "<div>\n",
       "<style scoped>\n",
       "    .dataframe tbody tr th:only-of-type {\n",
       "        vertical-align: middle;\n",
       "    }\n",
       "\n",
       "    .dataframe tbody tr th {\n",
       "        vertical-align: top;\n",
       "    }\n",
       "\n",
       "    .dataframe thead th {\n",
       "        text-align: right;\n",
       "    }\n",
       "</style>\n",
       "<table border=\"1\" class=\"dataframe\">\n",
       "  <thead>\n",
       "    <tr style=\"text-align: right;\">\n",
       "      <th></th>\n",
       "      <th>Series_Title</th>\n",
       "      <th>Released_Year</th>\n",
       "      <th>Certificate</th>\n",
       "      <th>Runtime</th>\n",
       "      <th>Genre</th>\n",
       "      <th>IMDB_Rating</th>\n",
       "      <th>Meta_score</th>\n",
       "      <th>Director</th>\n",
       "      <th>Protagonist_1</th>\n",
       "      <th>Protagonist_2</th>\n",
       "      <th>Supporting_actor_1</th>\n",
       "      <th>Supporting_actor_2</th>\n",
       "      <th>User_Ratings</th>\n",
       "      <th>Gross</th>\n",
       "      <th>Overview</th>\n",
       "      <th>Genre_1</th>\n",
       "      <th>Genre_2</th>\n",
       "      <th>Genre_3</th>\n",
       "      <th>Poster_Link</th>\n",
       "    </tr>\n",
       "  </thead>\n",
       "  <tbody>\n",
       "    <tr>\n",
       "      <th>0</th>\n",
       "      <td>The Shawshank Redemption</td>\n",
       "      <td>1994</td>\n",
       "      <td>A</td>\n",
       "      <td>142</td>\n",
       "      <td>Drama</td>\n",
       "      <td>930</td>\n",
       "      <td>80</td>\n",
       "      <td>Frank Darabont</td>\n",
       "      <td>Tim Robbins</td>\n",
       "      <td>Morgan Freeman</td>\n",
       "      <td>Bob Gunton</td>\n",
       "      <td>William Sadler</td>\n",
       "      <td>2343110</td>\n",
       "      <td>28,341,469</td>\n",
       "      <td>Two imprisoned men bond over a number of years...</td>\n",
       "      <td>Drama</td>\n",
       "      <td>None</td>\n",
       "      <td>None</td>\n",
       "      <td>https://m.media-amazon.com/images/M/MV5BMDFkYT...</td>\n",
       "    </tr>\n",
       "  </tbody>\n",
       "</table>\n",
       "</div>"
      ],
      "text/plain": [
       "               Series_Title Released_Year Certificate Runtime  Genre  \\\n",
       "0  The Shawshank Redemption          1994           A     142  Drama   \n",
       "\n",
       "   IMDB_Rating  Meta_score        Director Protagonist_1   Protagonist_2  \\\n",
       "0          930          80  Frank Darabont   Tim Robbins  Morgan Freeman   \n",
       "\n",
       "  Supporting_actor_1 Supporting_actor_2  User_Ratings       Gross  \\\n",
       "0         Bob Gunton     William Sadler       2343110  28,341,469   \n",
       "\n",
       "                                            Overview Genre_1 Genre_2 Genre_3  \\\n",
       "0  Two imprisoned men bond over a number of years...   Drama    None    None   \n",
       "\n",
       "                                         Poster_Link  \n",
       "0  https://m.media-amazon.com/images/M/MV5BMDFkYT...  "
      ]
     },
     "execution_count": 57,
     "metadata": {},
     "output_type": "execute_result"
    }
   ],
   "source": [
    "df_imbd.head(1)"
   ]
  },
  {
   "cell_type": "code",
   "execution_count": 58,
   "metadata": {},
   "outputs": [],
   "source": [
    "patron= r\"[0-9]{2,3}\" #encuentra un numero y quedate con el , puedes encontrar 2 o 3 numeros.\n",
    "\n",
    "def minutos(col):\n",
    "   return re.findall(patron, col)\n",
    "      "
   ]
  },
  {
   "cell_type": "code",
   "execution_count": 59,
   "metadata": {},
   "outputs": [],
   "source": [
    "df_imbd[\"Runtime\"]= df_imbd[\"Runtime\"].apply(minutos).str[0] #str[0] te elimina los corchetes"
   ]
  },
  {
   "cell_type": "code",
   "execution_count": 60,
   "metadata": {},
   "outputs": [
    {
     "data": {
      "text/html": [
       "<div>\n",
       "<style scoped>\n",
       "    .dataframe tbody tr th:only-of-type {\n",
       "        vertical-align: middle;\n",
       "    }\n",
       "\n",
       "    .dataframe tbody tr th {\n",
       "        vertical-align: top;\n",
       "    }\n",
       "\n",
       "    .dataframe thead th {\n",
       "        text-align: right;\n",
       "    }\n",
       "</style>\n",
       "<table border=\"1\" class=\"dataframe\">\n",
       "  <thead>\n",
       "    <tr style=\"text-align: right;\">\n",
       "      <th></th>\n",
       "      <th>Series_Title</th>\n",
       "      <th>Released_Year</th>\n",
       "      <th>Certificate</th>\n",
       "      <th>Runtime</th>\n",
       "      <th>Genre</th>\n",
       "      <th>IMDB_Rating</th>\n",
       "      <th>Meta_score</th>\n",
       "      <th>Director</th>\n",
       "      <th>Protagonist_1</th>\n",
       "      <th>Protagonist_2</th>\n",
       "      <th>Supporting_actor_1</th>\n",
       "      <th>Supporting_actor_2</th>\n",
       "      <th>User_Ratings</th>\n",
       "      <th>Gross</th>\n",
       "      <th>Overview</th>\n",
       "      <th>Genre_1</th>\n",
       "      <th>Genre_2</th>\n",
       "      <th>Genre_3</th>\n",
       "      <th>Poster_Link</th>\n",
       "    </tr>\n",
       "  </thead>\n",
       "  <tbody>\n",
       "    <tr>\n",
       "      <th>0</th>\n",
       "      <td>The Shawshank Redemption</td>\n",
       "      <td>1994</td>\n",
       "      <td>A</td>\n",
       "      <td>142</td>\n",
       "      <td>Drama</td>\n",
       "      <td>930</td>\n",
       "      <td>80</td>\n",
       "      <td>Frank Darabont</td>\n",
       "      <td>Tim Robbins</td>\n",
       "      <td>Morgan Freeman</td>\n",
       "      <td>Bob Gunton</td>\n",
       "      <td>William Sadler</td>\n",
       "      <td>2343110</td>\n",
       "      <td>28,341,469</td>\n",
       "      <td>Two imprisoned men bond over a number of years...</td>\n",
       "      <td>Drama</td>\n",
       "      <td>None</td>\n",
       "      <td>None</td>\n",
       "      <td>https://m.media-amazon.com/images/M/MV5BMDFkYT...</td>\n",
       "    </tr>\n",
       "  </tbody>\n",
       "</table>\n",
       "</div>"
      ],
      "text/plain": [
       "               Series_Title Released_Year Certificate Runtime  Genre  \\\n",
       "0  The Shawshank Redemption          1994           A     142  Drama   \n",
       "\n",
       "   IMDB_Rating  Meta_score        Director Protagonist_1   Protagonist_2  \\\n",
       "0          930          80  Frank Darabont   Tim Robbins  Morgan Freeman   \n",
       "\n",
       "  Supporting_actor_1 Supporting_actor_2  User_Ratings       Gross  \\\n",
       "0         Bob Gunton     William Sadler       2343110  28,341,469   \n",
       "\n",
       "                                            Overview Genre_1 Genre_2 Genre_3  \\\n",
       "0  Two imprisoned men bond over a number of years...   Drama    None    None   \n",
       "\n",
       "                                         Poster_Link  \n",
       "0  https://m.media-amazon.com/images/M/MV5BMDFkYT...  "
      ]
     },
     "execution_count": 60,
     "metadata": {},
     "output_type": "execute_result"
    }
   ],
   "source": [
    "df_imbd.head(1)"
   ]
  },
  {
   "cell_type": "code",
   "execution_count": 61,
   "metadata": {},
   "outputs": [],
   "source": [
    "\n",
    "df_imbd=df_imbd.reindex(columns=[ 'Series_Title', 'Released_Year','Certificate', 'Runtime', 'Genre',\n",
    "                                'IMDB_Rating', 'Meta_score', 'Director', 'Protagonist_1', 'Protagonist_2', \n",
    "                                'Supporting_actor_1', 'Supporting_actor_2', 'User_Ratings', 'Gross','Overview','Poster_Link'])"
   ]
  },
  {
   "cell_type": "code",
   "execution_count": 62,
   "metadata": {},
   "outputs": [
    {
     "data": {
      "text/html": [
       "<div>\n",
       "<style scoped>\n",
       "    .dataframe tbody tr th:only-of-type {\n",
       "        vertical-align: middle;\n",
       "    }\n",
       "\n",
       "    .dataframe tbody tr th {\n",
       "        vertical-align: top;\n",
       "    }\n",
       "\n",
       "    .dataframe thead th {\n",
       "        text-align: right;\n",
       "    }\n",
       "</style>\n",
       "<table border=\"1\" class=\"dataframe\">\n",
       "  <thead>\n",
       "    <tr style=\"text-align: right;\">\n",
       "      <th></th>\n",
       "      <th>Series_Title</th>\n",
       "      <th>Released_Year</th>\n",
       "      <th>Certificate</th>\n",
       "      <th>Runtime</th>\n",
       "      <th>Genre</th>\n",
       "      <th>IMDB_Rating</th>\n",
       "      <th>Meta_score</th>\n",
       "      <th>Director</th>\n",
       "      <th>Protagonist_1</th>\n",
       "      <th>Protagonist_2</th>\n",
       "      <th>Supporting_actor_1</th>\n",
       "      <th>Supporting_actor_2</th>\n",
       "      <th>User_Ratings</th>\n",
       "      <th>Gross</th>\n",
       "      <th>Overview</th>\n",
       "      <th>Poster_Link</th>\n",
       "    </tr>\n",
       "  </thead>\n",
       "  <tbody>\n",
       "    <tr>\n",
       "      <th>0</th>\n",
       "      <td>The Shawshank Redemption</td>\n",
       "      <td>1994</td>\n",
       "      <td>A</td>\n",
       "      <td>142</td>\n",
       "      <td>Drama</td>\n",
       "      <td>930</td>\n",
       "      <td>80</td>\n",
       "      <td>Frank Darabont</td>\n",
       "      <td>Tim Robbins</td>\n",
       "      <td>Morgan Freeman</td>\n",
       "      <td>Bob Gunton</td>\n",
       "      <td>William Sadler</td>\n",
       "      <td>2343110</td>\n",
       "      <td>28,341,469</td>\n",
       "      <td>Two imprisoned men bond over a number of years...</td>\n",
       "      <td>https://m.media-amazon.com/images/M/MV5BMDFkYT...</td>\n",
       "    </tr>\n",
       "    <tr>\n",
       "      <th>1</th>\n",
       "      <td>The Godfather</td>\n",
       "      <td>1972</td>\n",
       "      <td>A</td>\n",
       "      <td>175</td>\n",
       "      <td>Crime, Drama</td>\n",
       "      <td>920</td>\n",
       "      <td>100</td>\n",
       "      <td>Francis Ford Coppola</td>\n",
       "      <td>Marlon Brando</td>\n",
       "      <td>Al Pacino</td>\n",
       "      <td>James Caan</td>\n",
       "      <td>Diane Keaton</td>\n",
       "      <td>1620367</td>\n",
       "      <td>134,966,411</td>\n",
       "      <td>An organized crime dynasty's aging patriarch t...</td>\n",
       "      <td>https://m.media-amazon.com/images/M/MV5BM2MyNj...</td>\n",
       "    </tr>\n",
       "  </tbody>\n",
       "</table>\n",
       "</div>"
      ],
      "text/plain": [
       "               Series_Title Released_Year Certificate Runtime         Genre  \\\n",
       "0  The Shawshank Redemption          1994           A     142         Drama   \n",
       "1             The Godfather          1972           A     175  Crime, Drama   \n",
       "\n",
       "   IMDB_Rating  Meta_score              Director  Protagonist_1  \\\n",
       "0          930          80        Frank Darabont    Tim Robbins   \n",
       "1          920         100  Francis Ford Coppola  Marlon Brando   \n",
       "\n",
       "    Protagonist_2 Supporting_actor_1 Supporting_actor_2  User_Ratings  \\\n",
       "0  Morgan Freeman         Bob Gunton     William Sadler       2343110   \n",
       "1       Al Pacino         James Caan       Diane Keaton       1620367   \n",
       "\n",
       "         Gross                                           Overview  \\\n",
       "0   28,341,469  Two imprisoned men bond over a number of years...   \n",
       "1  134,966,411  An organized crime dynasty's aging patriarch t...   \n",
       "\n",
       "                                         Poster_Link  \n",
       "0  https://m.media-amazon.com/images/M/MV5BMDFkYT...  \n",
       "1  https://m.media-amazon.com/images/M/MV5BM2MyNj...  "
      ]
     },
     "execution_count": 62,
     "metadata": {},
     "output_type": "execute_result"
    }
   ],
   "source": [
    "df_imbd.head(2)"
   ]
  },
  {
   "cell_type": "markdown",
   "metadata": {},
   "source": [
    "    Ahora quiero pasar IMDB_Rating y Meta_score a INTEGER"
   ]
  },
  {
   "cell_type": "code",
   "execution_count": 63,
   "metadata": {},
   "outputs": [],
   "source": [
    "df_imbd.IMDB_Rating= df_imbd.IMDB_Rating.astype(int)"
   ]
  },
  {
   "cell_type": "code",
   "execution_count": 64,
   "metadata": {},
   "outputs": [],
   "source": [
    "# No me deja con esta por que tiene NAN , hay que eliminarlos\n",
    "#df_imbd.Meta_score.astype(int)"
   ]
  },
  {
   "cell_type": "code",
   "execution_count": 65,
   "metadata": {},
   "outputs": [
    {
     "data": {
      "text/plain": [
       "Series_Title          0\n",
       "Released_Year         0\n",
       "Certificate           0\n",
       "Runtime               0\n",
       "Genre                 0\n",
       "IMDB_Rating           0\n",
       "Meta_score            0\n",
       "Director              0\n",
       "Protagonist_1         0\n",
       "Protagonist_2         0\n",
       "Supporting_actor_1    0\n",
       "Supporting_actor_2    0\n",
       "User_Ratings          0\n",
       "Gross                 0\n",
       "Overview              0\n",
       "Poster_Link           0\n",
       "dtype: int64"
      ]
     },
     "execution_count": 65,
     "metadata": {},
     "output_type": "execute_result"
    }
   ],
   "source": [
    "df_imbd.isnull().sum() # no son muchos los elimino"
   ]
  },
  {
   "cell_type": "code",
   "execution_count": 38,
   "metadata": {},
   "outputs": [],
   "source": [
    "df_imbd = df_imbd.dropna(subset=[\"Certificate\",\"Meta_score\", \"Gross\" ])"
   ]
  },
  {
   "cell_type": "code",
   "execution_count": 66,
   "metadata": {},
   "outputs": [
    {
     "data": {
      "text/plain": [
       "Series_Title          0\n",
       "Released_Year         0\n",
       "Certificate           0\n",
       "Runtime               0\n",
       "Genre                 0\n",
       "IMDB_Rating           0\n",
       "Meta_score            0\n",
       "Director              0\n",
       "Protagonist_1         0\n",
       "Protagonist_2         0\n",
       "Supporting_actor_1    0\n",
       "Supporting_actor_2    0\n",
       "User_Ratings          0\n",
       "Gross                 0\n",
       "Overview              0\n",
       "Poster_Link           0\n",
       "dtype: int64"
      ]
     },
     "execution_count": 66,
     "metadata": {},
     "output_type": "execute_result"
    }
   ],
   "source": [
    "df_imbd.isnull().sum()"
   ]
  },
  {
   "cell_type": "code",
   "execution_count": 67,
   "metadata": {},
   "outputs": [],
   "source": [
    "df_imbd.Meta_score= df_imbd.Meta_score.astype(int) # ya son ambas int y para tableau no me aparecerán con .0 decimales"
   ]
  },
  {
   "cell_type": "code",
   "execution_count": 68,
   "metadata": {},
   "outputs": [
    {
     "data": {
      "text/plain": [
       "Series_Title          object\n",
       "Released_Year         object\n",
       "Certificate           object\n",
       "Runtime               object\n",
       "Genre                 object\n",
       "IMDB_Rating            int64\n",
       "Meta_score             int64\n",
       "Director              object\n",
       "Protagonist_1         object\n",
       "Protagonist_2         object\n",
       "Supporting_actor_1    object\n",
       "Supporting_actor_2    object\n",
       "User_Ratings           int64\n",
       "Gross                 object\n",
       "Overview              object\n",
       "Poster_Link           object\n",
       "dtype: object"
      ]
     },
     "execution_count": 68,
     "metadata": {},
     "output_type": "execute_result"
    }
   ],
   "source": [
    "df_imbd.dtypes"
   ]
  },
  {
   "cell_type": "markdown",
   "metadata": {},
   "source": [
    "# Columna Genre"
   ]
  },
  {
   "cell_type": "code",
   "execution_count": 69,
   "metadata": {},
   "outputs": [
    {
     "data": {
      "text/plain": [
       "array(['Drama', 'Crime, Drama', 'Action, Crime, Drama',\n",
       "       'Action, Adventure, Drama', 'Biography, Drama, History',\n",
       "       'Action, Adventure, Sci-Fi', 'Drama, Romance', 'Western',\n",
       "       'Action, Sci-Fi', 'Biography, Crime, Drama',\n",
       "       'Action, Adventure, Fantasy', 'Comedy, Drama, Thriller',\n",
       "       'Adventure, Drama, Sci-Fi', 'Animation, Adventure, Family',\n",
       "       'Drama, War', 'Crime, Drama, Fantasy', 'Comedy, Drama, Romance',\n",
       "       'Crime, Drama, Mystery', 'Crime, Drama, Thriller', 'Drama, Music',\n",
       "       'Biography, Comedy, Drama', 'Drama, Mystery, Sci-Fi',\n",
       "       'Biography, Drama, Music', 'Crime, Mystery, Thriller',\n",
       "       'Animation, Adventure, Drama', 'Adventure, Comedy, Sci-Fi',\n",
       "       'Horror, Mystery, Thriller', 'Drama, Romance, War',\n",
       "       'Comedy, Drama, Family', 'Animation, Drama, Fantasy',\n",
       "       'Animation, Action, Adventure', 'Drama, Western',\n",
       "       'Action, Adventure', 'Comedy, Drama', 'Drama, Mystery, Thriller',\n",
       "       'Action, Drama, Mystery', 'Mystery, Thriller', 'Drama, Horror',\n",
       "       'Drama, Mystery, War', 'Horror, Sci-Fi', 'Comedy',\n",
       "       'Drama, Thriller, War', 'Adventure, Drama, War',\n",
       "       'Drama, Romance, Sci-Fi', 'Comedy, Romance', 'Comedy, Crime',\n",
       "       'Drama, Family, Sport', 'Animation, Adventure, Comedy',\n",
       "       'Adventure, Drama, Thriller', 'Comedy, Crime, Drama',\n",
       "       'Crime, Drama, Sci-Fi', 'Adventure, Sci-Fi',\n",
       "       'Adventure, Biography, Drama', 'Adventure, Mystery, Thriller',\n",
       "       'Mystery, Romance, Thriller', 'Comedy, Musical, Romance',\n",
       "       'Crime, Drama, Film-Noir', 'Drama, Mystery',\n",
       "       'Drama, Mystery, Romance', 'Action, Drama, Sport',\n",
       "       'Drama, Fantasy, War', 'Action, Drama, Sci-Fi', 'Biography, Drama',\n",
       "       'Action, Comedy, Crime', 'Animation, Family, Fantasy',\n",
       "       'Action, Thriller', 'Action, Drama, War',\n",
       "       'Biography, Drama, Sport', 'Adventure, Comedy, Fantasy',\n",
       "       'Adventure, Drama, History', 'Comedy, Music, Romance',\n",
       "       'Crime, Thriller', 'Adventure, Drama, Western',\n",
       "       'Drama, Romance, Thriller', 'Drama, Thriller',\n",
       "       'Adventure, Comedy, Crime', 'Action, Biography, Drama',\n",
       "       'Adventure, Drama, Fantasy', 'Drama, Sport',\n",
       "       'Adventure, Drama, Musical', 'Drama, Music, Romance',\n",
       "       'Comedy, Crime, Romance', 'Comedy, Crime, Sport',\n",
       "       'Adventure, Drama', 'Animation, Adventure, Fantasy',\n",
       "       'Horror, Mystery, Sci-Fi', 'Drama, Fantasy, Music',\n",
       "       'Action, Sci-Fi, Thriller', 'Drama, Horror, Thriller',\n",
       "       'Drama, Film-Noir', 'Film-Noir, Mystery, Thriller',\n",
       "       'Drama, History, Romance', 'Comedy, Drama, Music', 'Drama, Family',\n",
       "       'Action, Crime, Thriller', 'Biography, Drama, Thriller',\n",
       "       'Action, Adventure, Comedy', 'Animation, Biography, Drama',\n",
       "       'Action, Mystery, Thriller', 'Crime, Drama, Romance',\n",
       "       'Action, Adventure, Thriller', 'Comedy, Drama, Musical',\n",
       "       'Crime, Drama, Musical', 'Mystery, Sci-Fi, Thriller',\n",
       "       'Animation, Action, Crime', 'Comedy, Fantasy, Romance',\n",
       "       'Drama, History, Thriller', 'Adventure, Family, Fantasy',\n",
       "       'Drama, Fantasy, Romance', 'Adventure, Thriller', 'Horror',\n",
       "       'Drama, Family, Musical', 'Biography, Drama, Family',\n",
       "       'Action, Drama, Western', 'Drama, History',\n",
       "       'Adventure, Comedy, Drama', 'Comedy, Drama, War', 'Drama, Sci-Fi',\n",
       "       'Comedy, Horror', 'Action, Adventure, History',\n",
       "       'Drama, Music, Mystery', 'Comedy, Music', 'Comedy, Family',\n",
       "       'Drama, Music, Musical', 'Action, Adventure, Horror',\n",
       "       'Biography, Drama, War', 'Action, Adventure, Western',\n",
       "       'Comedy, Mystery, Romance', 'Drama, Thriller, Western',\n",
       "       'Crime, Film-Noir, Thriller', 'Drama, Film-Noir, Romance',\n",
       "       'Action, Adventure, Romance', 'Adventure, Horror, Sci-Fi',\n",
       "       'Action, Drama, History', 'Adventure, Comedy, Family',\n",
       "       'Drama, History, War', 'Animation, Biography, Crime',\n",
       "       'Comedy, Drama, Fantasy', 'Adventure, Biography, Crime',\n",
       "       'Adventure, Fantasy', 'Drama, History, Mystery',\n",
       "       'Action, Comedy, Mystery', 'Animation, Comedy, Drama',\n",
       "       'Adventure, Drama, Romance', 'Drama, Sci-Fi, Thriller',\n",
       "       'Crime, Drama, History', 'Action, Comedy, Fantasy',\n",
       "       'Family, Sci-Fi', 'Animation, Sci-Fi', 'Family, Fantasy, Musical',\n",
       "       'Comedy, Family, Fantasy', 'Animation, Drama, Family',\n",
       "       'Biography, Drama, Romance', 'Drama, History, Music',\n",
       "       'Action, Drama', 'Animation, Action, Fantasy',\n",
       "       'Animation, Comedy, Fantasy', 'Drama, Family, Fantasy',\n",
       "       'Horror, Thriller', 'Comedy, Western', 'Drama, Horror, Mystery',\n",
       "       'Animation, Comedy, Crime', 'Action, Adventure, Mystery',\n",
       "       'Drama, Fantasy, Mystery', 'Action, Adventure, Family',\n",
       "       'Drama, Horror, Sci-Fi', 'Action, Crime, Mystery',\n",
       "       'Animation, Drama, Romance', 'Action, Biography, Crime',\n",
       "       'Drama, War, Western', 'Adventure, Comedy, War',\n",
       "       'Comedy, Music, Musical'], dtype=object)"
      ]
     },
     "execution_count": 69,
     "metadata": {},
     "output_type": "execute_result"
    }
   ],
   "source": [
    "df_imbd[\"Genre\"].unique()"
   ]
  },
  {
   "cell_type": "code",
   "execution_count": 70,
   "metadata": {},
   "outputs": [
    {
     "data": {
      "text/plain": [
       "0                             Drama\n",
       "1                      Crime, Drama\n",
       "2              Action, Crime, Drama\n",
       "3                      Crime, Drama\n",
       "4                      Crime, Drama\n",
       "                   ...             \n",
       "990             Drama, War, Western\n",
       "991          Adventure, Comedy, War\n",
       "992    Animation, Adventure, Family\n",
       "994          Comedy, Music, Musical\n",
       "997             Drama, Romance, War\n",
       "Name: Genre, Length: 714, dtype: object"
      ]
     },
     "execution_count": 70,
     "metadata": {},
     "output_type": "execute_result"
    }
   ],
   "source": [
    "df_imbd[\"Genre\"]"
   ]
  },
  {
   "cell_type": "code",
   "execution_count": 44,
   "metadata": {},
   "outputs": [],
   "source": [
    "df_imbd[[\"Genre_1\",\"Genre_2\",\"Genre_3\"]] = df_imbd[\"Genre\"].str.split(pat=\",\", n=-1, expand=True)"
   ]
  },
  {
   "cell_type": "code",
   "execution_count": 45,
   "metadata": {},
   "outputs": [
    {
     "data": {
      "text/html": [
       "<div>\n",
       "<style scoped>\n",
       "    .dataframe tbody tr th:only-of-type {\n",
       "        vertical-align: middle;\n",
       "    }\n",
       "\n",
       "    .dataframe tbody tr th {\n",
       "        vertical-align: top;\n",
       "    }\n",
       "\n",
       "    .dataframe thead th {\n",
       "        text-align: right;\n",
       "    }\n",
       "</style>\n",
       "<table border=\"1\" class=\"dataframe\">\n",
       "  <thead>\n",
       "    <tr style=\"text-align: right;\">\n",
       "      <th></th>\n",
       "      <th>Series_Title</th>\n",
       "      <th>Released_Year</th>\n",
       "      <th>Certificate</th>\n",
       "      <th>Runtime</th>\n",
       "      <th>Genre</th>\n",
       "      <th>IMDB_Rating</th>\n",
       "      <th>Meta_score</th>\n",
       "      <th>Director</th>\n",
       "      <th>Protagonist_1</th>\n",
       "      <th>Protagonist_2</th>\n",
       "      <th>Supporting_actor_1</th>\n",
       "      <th>Supporting_actor_2</th>\n",
       "      <th>User_Ratings</th>\n",
       "      <th>Gross</th>\n",
       "      <th>Overview</th>\n",
       "      <th>Poster_Link</th>\n",
       "      <th>Genre_1</th>\n",
       "      <th>Genre_2</th>\n",
       "      <th>Genre_3</th>\n",
       "    </tr>\n",
       "  </thead>\n",
       "  <tbody>\n",
       "    <tr>\n",
       "      <th>0</th>\n",
       "      <td>The Shawshank Redemption</td>\n",
       "      <td>1994</td>\n",
       "      <td>A</td>\n",
       "      <td>142</td>\n",
       "      <td>Drama</td>\n",
       "      <td>93</td>\n",
       "      <td>80</td>\n",
       "      <td>Frank Darabont</td>\n",
       "      <td>Tim Robbins</td>\n",
       "      <td>Morgan Freeman</td>\n",
       "      <td>Bob Gunton</td>\n",
       "      <td>William Sadler</td>\n",
       "      <td>2343110</td>\n",
       "      <td>28,341,469</td>\n",
       "      <td>Two imprisoned men bond over a number of years...</td>\n",
       "      <td>https://m.media-amazon.com/images/M/MV5BMDFkYT...</td>\n",
       "      <td>Drama</td>\n",
       "      <td>None</td>\n",
       "      <td>None</td>\n",
       "    </tr>\n",
       "    <tr>\n",
       "      <th>1</th>\n",
       "      <td>The Godfather</td>\n",
       "      <td>1972</td>\n",
       "      <td>A</td>\n",
       "      <td>175</td>\n",
       "      <td>Crime, Drama</td>\n",
       "      <td>92</td>\n",
       "      <td>100</td>\n",
       "      <td>Francis Ford Coppola</td>\n",
       "      <td>Marlon Brando</td>\n",
       "      <td>Al Pacino</td>\n",
       "      <td>James Caan</td>\n",
       "      <td>Diane Keaton</td>\n",
       "      <td>1620367</td>\n",
       "      <td>134,966,411</td>\n",
       "      <td>An organized crime dynasty's aging patriarch t...</td>\n",
       "      <td>https://m.media-amazon.com/images/M/MV5BM2MyNj...</td>\n",
       "      <td>Crime</td>\n",
       "      <td>Drama</td>\n",
       "      <td>None</td>\n",
       "    </tr>\n",
       "  </tbody>\n",
       "</table>\n",
       "</div>"
      ],
      "text/plain": [
       "               Series_Title Released_Year Certificate Runtime         Genre  \\\n",
       "0  The Shawshank Redemption          1994           A     142         Drama   \n",
       "1             The Godfather          1972           A     175  Crime, Drama   \n",
       "\n",
       "   IMDB_Rating  Meta_score              Director  Protagonist_1  \\\n",
       "0           93          80        Frank Darabont    Tim Robbins   \n",
       "1           92         100  Francis Ford Coppola  Marlon Brando   \n",
       "\n",
       "    Protagonist_2 Supporting_actor_1 Supporting_actor_2  User_Ratings  \\\n",
       "0  Morgan Freeman         Bob Gunton     William Sadler       2343110   \n",
       "1       Al Pacino         James Caan       Diane Keaton       1620367   \n",
       "\n",
       "         Gross                                           Overview  \\\n",
       "0   28,341,469  Two imprisoned men bond over a number of years...   \n",
       "1  134,966,411  An organized crime dynasty's aging patriarch t...   \n",
       "\n",
       "                                         Poster_Link Genre_1 Genre_2 Genre_3  \n",
       "0  https://m.media-amazon.com/images/M/MV5BMDFkYT...   Drama    None    None  \n",
       "1  https://m.media-amazon.com/images/M/MV5BM2MyNj...   Crime   Drama    None  "
      ]
     },
     "execution_count": 45,
     "metadata": {},
     "output_type": "execute_result"
    }
   ],
   "source": [
    "df_imbd.head(2)"
   ]
  },
  {
   "cell_type": "code",
   "execution_count": 46,
   "metadata": {},
   "outputs": [],
   "source": [
    "df_imbd=df_imbd.reindex(columns=[ 'Series_Title', 'Released_Year','Certificate', 'Runtime', 'Genre',\n",
    "                                'IMDB_Rating', 'Meta_score', 'Director', 'Protagonist_1', 'Protagonist_2', \n",
    "                                'Supporting_actor_1', 'Supporting_actor_2', 'User_Ratings', 'Gross','Overview','Genre_1','Genre_2','Genre_3','Poster_Link'])"
   ]
  },
  {
   "cell_type": "code",
   "execution_count": 47,
   "metadata": {},
   "outputs": [
    {
     "data": {
      "text/html": [
       "<div>\n",
       "<style scoped>\n",
       "    .dataframe tbody tr th:only-of-type {\n",
       "        vertical-align: middle;\n",
       "    }\n",
       "\n",
       "    .dataframe tbody tr th {\n",
       "        vertical-align: top;\n",
       "    }\n",
       "\n",
       "    .dataframe thead th {\n",
       "        text-align: right;\n",
       "    }\n",
       "</style>\n",
       "<table border=\"1\" class=\"dataframe\">\n",
       "  <thead>\n",
       "    <tr style=\"text-align: right;\">\n",
       "      <th></th>\n",
       "      <th>Series_Title</th>\n",
       "      <th>Released_Year</th>\n",
       "      <th>Certificate</th>\n",
       "      <th>Runtime</th>\n",
       "      <th>Genre</th>\n",
       "      <th>IMDB_Rating</th>\n",
       "      <th>Meta_score</th>\n",
       "      <th>Director</th>\n",
       "      <th>Protagonist_1</th>\n",
       "      <th>Protagonist_2</th>\n",
       "      <th>Supporting_actor_1</th>\n",
       "      <th>Supporting_actor_2</th>\n",
       "      <th>User_Ratings</th>\n",
       "      <th>Gross</th>\n",
       "      <th>Overview</th>\n",
       "      <th>Genre_1</th>\n",
       "      <th>Genre_2</th>\n",
       "      <th>Genre_3</th>\n",
       "      <th>Poster_Link</th>\n",
       "    </tr>\n",
       "  </thead>\n",
       "  <tbody>\n",
       "    <tr>\n",
       "      <th>0</th>\n",
       "      <td>The Shawshank Redemption</td>\n",
       "      <td>1994</td>\n",
       "      <td>A</td>\n",
       "      <td>142</td>\n",
       "      <td>Drama</td>\n",
       "      <td>93</td>\n",
       "      <td>80</td>\n",
       "      <td>Frank Darabont</td>\n",
       "      <td>Tim Robbins</td>\n",
       "      <td>Morgan Freeman</td>\n",
       "      <td>Bob Gunton</td>\n",
       "      <td>William Sadler</td>\n",
       "      <td>2343110</td>\n",
       "      <td>28,341,469</td>\n",
       "      <td>Two imprisoned men bond over a number of years...</td>\n",
       "      <td>Drama</td>\n",
       "      <td>None</td>\n",
       "      <td>None</td>\n",
       "      <td>https://m.media-amazon.com/images/M/MV5BMDFkYT...</td>\n",
       "    </tr>\n",
       "    <tr>\n",
       "      <th>1</th>\n",
       "      <td>The Godfather</td>\n",
       "      <td>1972</td>\n",
       "      <td>A</td>\n",
       "      <td>175</td>\n",
       "      <td>Crime, Drama</td>\n",
       "      <td>92</td>\n",
       "      <td>100</td>\n",
       "      <td>Francis Ford Coppola</td>\n",
       "      <td>Marlon Brando</td>\n",
       "      <td>Al Pacino</td>\n",
       "      <td>James Caan</td>\n",
       "      <td>Diane Keaton</td>\n",
       "      <td>1620367</td>\n",
       "      <td>134,966,411</td>\n",
       "      <td>An organized crime dynasty's aging patriarch t...</td>\n",
       "      <td>Crime</td>\n",
       "      <td>Drama</td>\n",
       "      <td>None</td>\n",
       "      <td>https://m.media-amazon.com/images/M/MV5BM2MyNj...</td>\n",
       "    </tr>\n",
       "  </tbody>\n",
       "</table>\n",
       "</div>"
      ],
      "text/plain": [
       "               Series_Title Released_Year Certificate Runtime         Genre  \\\n",
       "0  The Shawshank Redemption          1994           A     142         Drama   \n",
       "1             The Godfather          1972           A     175  Crime, Drama   \n",
       "\n",
       "   IMDB_Rating  Meta_score              Director  Protagonist_1  \\\n",
       "0           93          80        Frank Darabont    Tim Robbins   \n",
       "1           92         100  Francis Ford Coppola  Marlon Brando   \n",
       "\n",
       "    Protagonist_2 Supporting_actor_1 Supporting_actor_2  User_Ratings  \\\n",
       "0  Morgan Freeman         Bob Gunton     William Sadler       2343110   \n",
       "1       Al Pacino         James Caan       Diane Keaton       1620367   \n",
       "\n",
       "         Gross                                           Overview Genre_1  \\\n",
       "0   28,341,469  Two imprisoned men bond over a number of years...   Drama   \n",
       "1  134,966,411  An organized crime dynasty's aging patriarch t...   Crime   \n",
       "\n",
       "  Genre_2 Genre_3                                        Poster_Link  \n",
       "0    None    None  https://m.media-amazon.com/images/M/MV5BMDFkYT...  \n",
       "1   Drama    None  https://m.media-amazon.com/images/M/MV5BM2MyNj...  "
      ]
     },
     "execution_count": 47,
     "metadata": {},
     "output_type": "execute_result"
    }
   ],
   "source": [
    "df_imbd.head(2)"
   ]
  },
  {
   "cell_type": "code",
   "execution_count": 49,
   "metadata": {},
   "outputs": [
    {
     "data": {
      "text/plain": [
       "0                             Drama\n",
       "1                      Crime, Drama\n",
       "2              Action, Crime, Drama\n",
       "3                      Crime, Drama\n",
       "4                      Crime, Drama\n",
       "                   ...             \n",
       "990             Drama, War, Western\n",
       "991          Adventure, Comedy, War\n",
       "992    Animation, Adventure, Family\n",
       "994          Comedy, Music, Musical\n",
       "997             Drama, Romance, War\n",
       "Name: Genre, Length: 714, dtype: object"
      ]
     },
     "execution_count": 49,
     "metadata": {},
     "output_type": "execute_result"
    }
   ],
   "source": [
    "df_imbd[\"Genre\"]"
   ]
  },
  {
   "cell_type": "code",
   "execution_count": 50,
   "metadata": {},
   "outputs": [
    {
     "data": {
      "text/plain": [
       "'Drama'"
      ]
     },
     "execution_count": 50,
     "metadata": {},
     "output_type": "execute_result"
    }
   ],
   "source": [
    "df_imbd[\"Genre\"][0]"
   ]
  },
  {
   "cell_type": "code",
   "execution_count": 72,
   "metadata": {},
   "outputs": [
    {
     "data": {
      "text/html": [
       "<div>\n",
       "<style scoped>\n",
       "    .dataframe tbody tr th:only-of-type {\n",
       "        vertical-align: middle;\n",
       "    }\n",
       "\n",
       "    .dataframe tbody tr th {\n",
       "        vertical-align: top;\n",
       "    }\n",
       "\n",
       "    .dataframe thead th {\n",
       "        text-align: right;\n",
       "    }\n",
       "</style>\n",
       "<table border=\"1\" class=\"dataframe\">\n",
       "  <thead>\n",
       "    <tr style=\"text-align: right;\">\n",
       "      <th></th>\n",
       "      <th>0</th>\n",
       "      <th>1</th>\n",
       "      <th>2</th>\n",
       "    </tr>\n",
       "  </thead>\n",
       "  <tbody>\n",
       "    <tr>\n",
       "      <th>0</th>\n",
       "      <td>Drama</td>\n",
       "      <td>None</td>\n",
       "      <td>None</td>\n",
       "    </tr>\n",
       "    <tr>\n",
       "      <th>1</th>\n",
       "      <td>Crime</td>\n",
       "      <td>Drama</td>\n",
       "      <td>None</td>\n",
       "    </tr>\n",
       "  </tbody>\n",
       "</table>\n",
       "</div>"
      ],
      "text/plain": [
       "       0       1     2\n",
       "0  Drama    None  None\n",
       "1  Crime   Drama  None"
      ]
     },
     "execution_count": 72,
     "metadata": {},
     "output_type": "execute_result"
    }
   ],
   "source": [
    "df_genres = df_imbd[\"Genre\"].str.split(pat=\",\", n=-1, expand=True)\n",
    "df_genres.head(2)"
   ]
  },
  {
   "cell_type": "markdown",
   "metadata": {},
   "source": [
    "# Opción 1"
   ]
  },
  {
   "cell_type": "code",
   "execution_count": 90,
   "metadata": {},
   "outputs": [
    {
     "name": "stdout",
     "output_type": "stream",
     "text": [
      "------------------------------------------------------------ \n",
      "\n",
      "En la columna '0' tenemos los siguientes valores unicos\n",
      "['Drama' 'Crime' 'Action' 'Biography' 'Western' 'Comedy' 'Adventure'\n",
      " 'Animation' 'Horror' 'Mystery' 'Film-Noir' 'Family']\n",
      "------------------------------------------------------------ \n",
      "\n",
      "En la columna '1' tenemos los siguientes valores unicos\n",
      "[None ' Drama' ' Crime' ' Adventure' ' Romance' ' Sci-Fi' ' War' ' Music'\n",
      " ' Comedy' ' Mystery' ' Action' ' Western' ' Thriller' ' Horror' ' Family'\n",
      " ' Biography' ' Musical' ' Fantasy' ' Sport' ' Film-Noir' ' History']\n",
      "------------------------------------------------------------ \n",
      "\n",
      "En la columna '2' tenemos los siguientes valores unicos\n",
      "[None ' Drama' ' History' ' Sci-Fi' ' Fantasy' ' Thriller' ' Family'\n",
      " ' Romance' ' Mystery' ' Music' ' War' ' Adventure' ' Sport' ' Comedy'\n",
      " ' Film-Noir' ' Crime' ' Western' ' Musical' ' Horror']\n"
     ]
    }
   ],
   "source": [
    "list = []\n",
    "for col in df_genres.columns:\n",
    "    try:\n",
    "        print(\"------------------------------------------------------------\", \"\\n\")\n",
    "        print(f\"En la columna '{col}' tenemos los siguientes valores unicos\")\n",
    "        print(df_genres[col].unique())\n",
    "        list_unique = df_genres[col].unique()\n",
    "        list.append(list_unique)\n",
    "    except:\n",
    "        pass\n",
    "        \n",
    "    # list_unique_col= np.add(df_genres[col].unique())"
   ]
  },
  {
   "cell_type": "code",
   "execution_count": 96,
   "metadata": {},
   "outputs": [
    {
     "data": {
      "text/plain": [
       "[array(['Drama', 'Crime', 'Action', 'Biography', 'Western', 'Comedy',\n",
       "        'Adventure', 'Animation', 'Horror', 'Mystery', 'Film-Noir',\n",
       "        'Family'], dtype=object),\n",
       " array([None, ' Drama', ' Crime', ' Adventure', ' Romance', ' Sci-Fi',\n",
       "        ' War', ' Music', ' Comedy', ' Mystery', ' Action', ' Western',\n",
       "        ' Thriller', ' Horror', ' Family', ' Biography', ' Musical',\n",
       "        ' Fantasy', ' Sport', ' Film-Noir', ' History'], dtype=object),\n",
       " array([None, ' Drama', ' History', ' Sci-Fi', ' Fantasy', ' Thriller',\n",
       "        ' Family', ' Romance', ' Mystery', ' Music', ' War', ' Adventure',\n",
       "        ' Sport', ' Comedy', ' Film-Noir', ' Crime', ' Western',\n",
       "        ' Musical', ' Horror'], dtype=object)]"
      ]
     },
     "execution_count": 96,
     "metadata": {},
     "output_type": "execute_result"
    }
   ],
   "source": [
    "list"
   ]
  },
  {
   "cell_type": "code",
   "execution_count": null,
   "metadata": {},
   "outputs": [],
   "source": [
    "list_set_unique = set(list)"
   ]
  },
  {
   "cell_type": "markdown",
   "metadata": {},
   "source": [
    "# Opción 2"
   ]
  },
  {
   "cell_type": "code",
   "execution_count": null,
   "metadata": {},
   "outputs": [],
   "source": [
    "df_imbd[\"Genre\"].str.split(pat=\",\", n=-1, expand=True)[3]"
   ]
  },
  {
   "cell_type": "code",
   "execution_count": null,
   "metadata": {},
   "outputs": [],
   "source": [
    "list_genre = list(df_imbd[\"Genre\"].str.split(pat=\",\", n=-1, expand=True)[3])"
   ]
  },
  {
   "cell_type": "code",
   "execution_count": null,
   "metadata": {},
   "outputs": [],
   "source": [
    "set_uniques = set()\n",
    "list_genre_set = []\n",
    "for i in df_imbd[\"Genre\"]:\n",
    "    try:\n",
    "        list_genre_set = set_uniques.add(i)\n",
    "    # print(i)\n",
    "    except:\n",
    "        list_genre_set = set_uniques.add(np.nan)\n",
    "    #     if i not in list_genre:\n",
    "    #         list_genre = list_genre.append(i)\n",
    "    #         print(list_genre)\n",
    "    #     else:\n",
    "    #         pass\n",
    "    # except:\n",
    "    #     list_genre = list_genre.append(np.nan)\n",
    "    # list_genre_set.str.split(pat=\",\", n=-1, expand=True)\n",
    "    # for x in list_genre:\n",
    "    #     list_uniques.append(x)"
   ]
  },
  {
   "cell_type": "code",
   "execution_count": null,
   "metadata": {},
   "outputs": [
    {
     "data": {
      "text/plain": [
       "NoneType"
      ]
     },
     "execution_count": 147,
     "metadata": {},
     "output_type": "execute_result"
    }
   ],
   "source": [
    "type(list_genre_set)"
   ]
  },
  {
   "cell_type": "code",
   "execution_count": null,
   "metadata": {},
   "outputs": [],
   "source": [
    "# set_uniques = set()\n",
    "# list_genre_set = []\n",
    "# for i in df_imbd[\"Genre\"]:\n",
    "#     try:\n",
    "#         list_genre_set = set_uniques.add(i)\n",
    "#     # print(i)\n",
    "#     except:\n",
    "#         list_genre_set = set_uniques.add(np.nan)\n",
    "    #     if i not in list_genre:\n",
    "    #         list_genre = list_genre.append(i)\n",
    "    #         print(list_genre)\n",
    "    #     else:\n",
    "    #         pass\n",
    "    # except:\n",
    "    #     list_genre = list_genre.append(np.nan)\n",
    "    # list_genre_set.str.split(pat=\",\", n=-1, expand=True)\n",
    "    # for x in list_genre:\n",
    "    #     list_uniques.append(x)"
   ]
  },
  {
   "cell_type": "code",
   "execution_count": null,
   "metadata": {},
   "outputs": [],
   "source": [
    "for x in df_imbd[\"Genre\"]:\n",
    "    print(x)\n",
    "    list_uniques.append(x)"
   ]
  },
  {
   "cell_type": "code",
   "execution_count": null,
   "metadata": {},
   "outputs": [],
   "source": [
    "list_2 = df_imbd[\"Genre\"].str.split(pat=\",\")\n"
   ]
  },
  {
   "cell_type": "code",
   "execution_count": null,
   "metadata": {},
   "outputs": [
    {
     "data": {
      "text/plain": [
       "['Action', ' Adventure', ' Drama']"
      ]
     },
     "execution_count": 131,
     "metadata": {},
     "output_type": "execute_result"
    }
   ],
   "source": [
    "list_2[5]"
   ]
  },
  {
   "cell_type": "code",
   "execution_count": null,
   "metadata": {},
   "outputs": [
    {
     "ename": "AttributeError",
     "evalue": "'set' object has no attribute 'append'",
     "output_type": "error",
     "traceback": [
      "\u001b[0;31m---------------------------------------------------------------------------\u001b[0m",
      "\u001b[0;31mAttributeError\u001b[0m                            Traceback (most recent call last)",
      "\u001b[0;32m/tmp/ipykernel_533/1357650731.py\u001b[0m in \u001b[0;36m<module>\u001b[0;34m\u001b[0m\n\u001b[0;32m----> 1\u001b[0;31m \u001b[0mlist_nueva\u001b[0m \u001b[0;34m=\u001b[0m \u001b[0mset\u001b[0m\u001b[0;34m(\u001b[0m\u001b[0mlist_2\u001b[0m\u001b[0;34m[\u001b[0m\u001b[0;36m5\u001b[0m\u001b[0;34m]\u001b[0m\u001b[0;34m)\u001b[0m\u001b[0;34m.\u001b[0m\u001b[0mappend\u001b[0m\u001b[0;34m(\u001b[0m\u001b[0;34m)\u001b[0m\u001b[0;34m\u001b[0m\u001b[0;34m\u001b[0m\u001b[0m\n\u001b[0m",
      "\u001b[0;31mAttributeError\u001b[0m: 'set' object has no attribute 'append'"
     ]
    }
   ],
   "source": [
    "list_nueva = set(list_2[5]).append()"
   ]
  },
  {
   "cell_type": "code",
   "execution_count": 97,
   "metadata": {},
   "outputs": [],
   "source": [
    "df_imbd.to_csv(\"Tableau_limpio.csv\")"
   ]
  }
 ],
 "metadata": {
  "interpreter": {
   "hash": "a2a25da4702e7ca1aacc8a7d4e81059851e19fd1060402175b35fae4c2a518e8"
  },
  "kernelspec": {
   "display_name": "Python 3.9.7 ('base')",
   "language": "python",
   "name": "python3"
  },
  "language_info": {
   "codemirror_mode": {
    "name": "ipython",
    "version": 3
   },
   "file_extension": ".py",
   "mimetype": "text/x-python",
   "name": "python",
   "nbconvert_exporter": "python",
   "pygments_lexer": "ipython3",
   "version": "3.9.7"
  },
  "orig_nbformat": 4
 },
 "nbformat": 4,
 "nbformat_minor": 2
}
